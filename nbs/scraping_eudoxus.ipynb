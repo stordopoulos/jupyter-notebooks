{
 "cells": [
  {
   "cell_type": "code",
   "execution_count": null,
   "metadata": {},
   "outputs": [],
   "source": [
    "# Processor info\n",
    "%pip install py-cpuinfo\n",
    "\n",
    "import cpuinfo\n",
    "\n",
    "\n",
    "from cpuinfo import get_cpu_info\n",
    "\n",
    "for key, value in get_cpu_info().items():\n",
    "    print(\"{0}: {1}\".format(key, value))"
   ]
  },
  {
   "cell_type": "code",
   "execution_count": 1,
   "metadata": {},
   "outputs": [
    {
     "name": "stdout",
     "output_type": "stream",
     "text": [
      "16\n"
     ]
    }
   ],
   "source": [
    "import multiprocessing \n",
    " \n",
    "print(multiprocessing.cpu_count())"
   ]
  },
  {
   "cell_type": "markdown",
   "metadata": {},
   "source": [
    "# Import Data"
   ]
  },
  {
   "cell_type": "markdown",
   "metadata": {},
   "source": [
    "## Depedencies"
   ]
  },
  {
   "cell_type": "code",
   "execution_count": 2,
   "metadata": {},
   "outputs": [
    {
     "name": "stdout",
     "output_type": "stream",
     "text": [
      "Requirement already satisfied: openpyxl>=3.0.0 in /home/gitpod/.pyenv/versions/3.8.12/lib/python3.8/site-packages (3.0.9)\n",
      "Requirement already satisfied: et-xmlfile in /home/gitpod/.pyenv/versions/3.8.12/lib/python3.8/site-packages (from openpyxl>=3.0.0) (1.1.0)\n",
      "\u001b[33mWARNING: You are using pip version 21.2.4; however, version 21.3.1 is available.\n",
      "You should consider upgrading via the '/home/gitpod/.pyenv/versions/3.8.12/bin/python -m pip install --upgrade pip' command.\u001b[0m\n",
      "Note: you may need to restart the kernel to use updated packages.\n",
      "Requirement already satisfied: pandas in /home/gitpod/.pyenv/versions/3.8.12/lib/python3.8/site-packages (1.3.5)\n",
      "Requirement already satisfied: pytz>=2017.3 in /home/gitpod/.pyenv/versions/3.8.12/lib/python3.8/site-packages (from pandas) (2021.3)\n",
      "Requirement already satisfied: numpy>=1.17.3 in /home/gitpod/.pyenv/versions/3.8.12/lib/python3.8/site-packages (from pandas) (1.22.0)\n",
      "Requirement already satisfied: python-dateutil>=2.7.3 in /home/gitpod/.pyenv/versions/3.8.12/lib/python3.8/site-packages (from pandas) (2.8.2)\n",
      "Requirement already satisfied: six>=1.5 in /home/gitpod/.pyenv/versions/3.8.12/lib/python3.8/site-packages (from python-dateutil>=2.7.3->pandas) (1.16.0)\n",
      "\u001b[33mWARNING: You are using pip version 21.2.4; however, version 21.3.1 is available.\n",
      "You should consider upgrading via the '/home/gitpod/.pyenv/versions/3.8.12/bin/python -m pip install --upgrade pip' command.\u001b[0m\n",
      "Note: you may need to restart the kernel to use updated packages.\n"
     ]
    }
   ],
   "source": [
    "%pip install \"openpyxl>=3.0.0\"\n",
    "%pip install pandas"
   ]
  },
  {
   "cell_type": "code",
   "execution_count": 4,
   "metadata": {},
   "outputs": [
    {
     "data": {
      "text/html": [
       "<div>\n",
       "<style scoped>\n",
       "    .dataframe tbody tr th:only-of-type {\n",
       "        vertical-align: middle;\n",
       "    }\n",
       "\n",
       "    .dataframe tbody tr th {\n",
       "        vertical-align: top;\n",
       "    }\n",
       "\n",
       "    .dataframe thead th {\n",
       "        text-align: right;\n",
       "    }\n",
       "</style>\n",
       "<table border=\"1\" class=\"dataframe\">\n",
       "  <thead>\n",
       "    <tr style=\"text-align: right;\">\n",
       "      <th></th>\n",
       "      <th>url</th>\n",
       "      <th>book_code</th>\n",
       "    </tr>\n",
       "  </thead>\n",
       "  <tbody>\n",
       "    <tr>\n",
       "      <th>0</th>\n",
       "      <td>https://service.eudoxus.gr/search/#a/id:683733...</td>\n",
       "      <td>68373348</td>\n",
       "    </tr>\n",
       "    <tr>\n",
       "      <th>1</th>\n",
       "      <td>https://service.eudoxus.gr/search/#a/id:593746...</td>\n",
       "      <td>59374613</td>\n",
       "    </tr>\n",
       "    <tr>\n",
       "      <th>2</th>\n",
       "      <td>https://service.eudoxus.gr/search/#a/id:102125...</td>\n",
       "      <td>102125603</td>\n",
       "    </tr>\n",
       "    <tr>\n",
       "      <th>3</th>\n",
       "      <td>https://service.eudoxus.gr/search/#a/id:861978...</td>\n",
       "      <td>86197837</td>\n",
       "    </tr>\n",
       "    <tr>\n",
       "      <th>4</th>\n",
       "      <td>https://service.eudoxus.gr/search/#a/id:129216...</td>\n",
       "      <td>12921665</td>\n",
       "    </tr>\n",
       "    <tr>\n",
       "      <th>...</th>\n",
       "      <td>...</td>\n",
       "      <td>...</td>\n",
       "    </tr>\n",
       "    <tr>\n",
       "      <th>43816</th>\n",
       "      <td>https://service.eudoxus.gr/search/#a/id:13678/0</td>\n",
       "      <td>13678</td>\n",
       "    </tr>\n",
       "    <tr>\n",
       "      <th>43817</th>\n",
       "      <td>https://service.eudoxus.gr/search/#a/id:860565...</td>\n",
       "      <td>86056513</td>\n",
       "    </tr>\n",
       "    <tr>\n",
       "      <th>43818</th>\n",
       "      <td>https://service.eudoxus.gr/search/#a/id:9771/0</td>\n",
       "      <td>9771</td>\n",
       "    </tr>\n",
       "    <tr>\n",
       "      <th>43819</th>\n",
       "      <td>https://service.eudoxus.gr/search/#a/id:185490...</td>\n",
       "      <td>18549097</td>\n",
       "    </tr>\n",
       "    <tr>\n",
       "      <th>43820</th>\n",
       "      <td>https://service.eudoxus.gr/search/#a/id:329983...</td>\n",
       "      <td>32998377</td>\n",
       "    </tr>\n",
       "  </tbody>\n",
       "</table>\n",
       "<p>43821 rows × 2 columns</p>\n",
       "</div>"
      ],
      "text/plain": [
       "                                                     url  book_code\n",
       "0      https://service.eudoxus.gr/search/#a/id:683733...   68373348\n",
       "1      https://service.eudoxus.gr/search/#a/id:593746...   59374613\n",
       "2      https://service.eudoxus.gr/search/#a/id:102125...  102125603\n",
       "3      https://service.eudoxus.gr/search/#a/id:861978...   86197837\n",
       "4      https://service.eudoxus.gr/search/#a/id:129216...   12921665\n",
       "...                                                  ...        ...\n",
       "43816    https://service.eudoxus.gr/search/#a/id:13678/0      13678\n",
       "43817  https://service.eudoxus.gr/search/#a/id:860565...   86056513\n",
       "43818     https://service.eudoxus.gr/search/#a/id:9771/0       9771\n",
       "43819  https://service.eudoxus.gr/search/#a/id:185490...   18549097\n",
       "43820  https://service.eudoxus.gr/search/#a/id:329983...   32998377\n",
       "\n",
       "[43821 rows x 2 columns]"
      ]
     },
     "metadata": {},
     "output_type": "display_data"
    }
   ],
   "source": [
    "import pandas as pd\n",
    "\n",
    "academic_year = '2021'\n",
    "source_folder = '/workspace/jupyter-notebooks/nbs/test_data'\n",
    "file_name = f'eudoxus_site_books_and_institutes_{academic_year}.xlsx'\n",
    "\n",
    "output_file = f'{source_folder}/{file_name}'\n",
    "\n",
    "book_details_2021 = pd.read_excel(output_file,\n",
    "                                  sheet_name = \"Sheet1\",\n",
    "                                  skiprows = 0,\n",
    "                                  usecols = \"D,B\")\n",
    "\n",
    "display(book_details_2021)\n"
   ]
  },
  {
   "cell_type": "markdown",
   "metadata": {},
   "source": [
    "# Scraping"
   ]
  },
  {
   "cell_type": "markdown",
   "metadata": {},
   "source": [
    "## Depedencies"
   ]
  },
  {
   "cell_type": "code",
   "execution_count": 3,
   "metadata": {},
   "outputs": [
    {
     "name": "stdout",
     "output_type": "stream",
     "text": [
      "Requirement already satisfied: selenium in /home/gitpod/.pyenv/versions/3.8.12/lib/python3.8/site-packages (4.1.0)\n",
      "Requirement already satisfied: trio~=0.17 in /home/gitpod/.pyenv/versions/3.8.12/lib/python3.8/site-packages (from selenium) (0.19.0)\n",
      "Requirement already satisfied: urllib3[secure]~=1.26 in /home/gitpod/.pyenv/versions/3.8.12/lib/python3.8/site-packages (from selenium) (1.26.6)\n",
      "Requirement already satisfied: trio-websocket~=0.9 in /home/gitpod/.pyenv/versions/3.8.12/lib/python3.8/site-packages (from selenium) (0.9.2)\n",
      "Requirement already satisfied: async-generator>=1.9 in /home/gitpod/.pyenv/versions/3.8.12/lib/python3.8/site-packages (from trio~=0.17->selenium) (1.10)\n",
      "Requirement already satisfied: idna in /home/gitpod/.pyenv/versions/3.8.12/lib/python3.8/site-packages (from trio~=0.17->selenium) (3.2)\n",
      "Requirement already satisfied: outcome in /home/gitpod/.pyenv/versions/3.8.12/lib/python3.8/site-packages (from trio~=0.17->selenium) (1.1.0)\n",
      "Requirement already satisfied: attrs>=19.2.0 in /home/gitpod/.pyenv/versions/3.8.12/lib/python3.8/site-packages (from trio~=0.17->selenium) (21.2.0)\n",
      "Requirement already satisfied: sniffio in /home/gitpod/.pyenv/versions/3.8.12/lib/python3.8/site-packages (from trio~=0.17->selenium) (1.2.0)\n",
      "Requirement already satisfied: sortedcontainers in /home/gitpod/.pyenv/versions/3.8.12/lib/python3.8/site-packages (from trio~=0.17->selenium) (2.4.0)\n",
      "Requirement already satisfied: wsproto>=0.14 in /home/gitpod/.pyenv/versions/3.8.12/lib/python3.8/site-packages (from trio-websocket~=0.9->selenium) (1.0.0)\n",
      "Requirement already satisfied: cryptography>=1.3.4 in /home/gitpod/.pyenv/versions/3.8.12/lib/python3.8/site-packages (from urllib3[secure]~=1.26->selenium) (3.4.8)\n",
      "Requirement already satisfied: certifi in /home/gitpod/.pyenv/versions/3.8.12/lib/python3.8/site-packages (from urllib3[secure]~=1.26->selenium) (2021.5.30)\n",
      "Requirement already satisfied: pyOpenSSL>=0.14 in /home/gitpod/.pyenv/versions/3.8.12/lib/python3.8/site-packages (from urllib3[secure]~=1.26->selenium) (21.0.0)\n",
      "Requirement already satisfied: cffi>=1.12 in /home/gitpod/.pyenv/versions/3.8.12/lib/python3.8/site-packages (from cryptography>=1.3.4->urllib3[secure]~=1.26->selenium) (1.14.6)\n",
      "Requirement already satisfied: pycparser in /home/gitpod/.pyenv/versions/3.8.12/lib/python3.8/site-packages (from cffi>=1.12->cryptography>=1.3.4->urllib3[secure]~=1.26->selenium) (2.20)\n",
      "Requirement already satisfied: six>=1.5.2 in /home/gitpod/.pyenv/versions/3.8.12/lib/python3.8/site-packages (from pyOpenSSL>=0.14->urllib3[secure]~=1.26->selenium) (1.16.0)\n",
      "Requirement already satisfied: h11<1,>=0.9.0 in /home/gitpod/.pyenv/versions/3.8.12/lib/python3.8/site-packages (from wsproto>=0.14->trio-websocket~=0.9->selenium) (0.12.0)\n",
      "\u001b[33mWARNING: You are using pip version 21.2.4; however, version 21.3.1 is available.\n",
      "You should consider upgrading via the '/home/gitpod/.pyenv/versions/3.8.12/bin/python -m pip install --upgrade pip' command.\u001b[0m\n",
      "Note: you may need to restart the kernel to use updated packages.\n",
      "Requirement already satisfied: retry in /home/gitpod/.pyenv/versions/3.8.12/lib/python3.8/site-packages (0.9.2)\n",
      "Requirement already satisfied: decorator>=3.4.2 in /home/gitpod/.pyenv/versions/3.8.12/lib/python3.8/site-packages (from retry) (5.1.0)\n",
      "Requirement already satisfied: py<2.0.0,>=1.4.26 in /home/gitpod/.pyenv/versions/3.8.12/lib/python3.8/site-packages (from retry) (1.11.0)\n",
      "\u001b[33mWARNING: You are using pip version 21.2.4; however, version 21.3.1 is available.\n",
      "You should consider upgrading via the '/home/gitpod/.pyenv/versions/3.8.12/bin/python -m pip install --upgrade pip' command.\u001b[0m\n",
      "Note: you may need to restart the kernel to use updated packages.\n",
      "Requirement already satisfied: timeout-decorator in /home/gitpod/.pyenv/versions/3.8.12/lib/python3.8/site-packages (0.5.0)\n",
      "\u001b[33mWARNING: You are using pip version 21.2.4; however, version 21.3.1 is available.\n",
      "You should consider upgrading via the '/home/gitpod/.pyenv/versions/3.8.12/bin/python -m pip install --upgrade pip' command.\u001b[0m\n",
      "Note: you may need to restart the kernel to use updated packages.\n",
      "Reading package lists... Done\n",
      "Building dependency tree       \n",
      "Reading state information... Done\n",
      "The following additional packages will be installed:\n",
      "  apparmor chromium-browser libfuse2 libudev1 snapd squashfs-tools udev\n",
      "Suggested packages:\n",
      "  apparmor-profiles-extra apparmor-utils fuse zenity | kdialog\n",
      "The following NEW packages will be installed:\n",
      "  apparmor chromium-browser chromium-chromedriver libfuse2 snapd\n",
      "  squashfs-tools udev\n",
      "The following packages will be upgraded:\n",
      "  libudev1\n",
      "1 upgraded, 7 newly installed, 0 to remove and 121 not upgraded.\n",
      "Need to get 32.6 MB of archives.\n",
      "After this operation, 146 MB of additional disk space will be used.\n",
      "Get:1 http://archive.ubuntu.com/ubuntu focal-updates/main amd64 apparmor amd64 2.13.3-7ubuntu5.1 [494 kB]\n",
      "Get:2 http://archive.ubuntu.com/ubuntu focal-updates/main amd64 squashfs-tools amd64 1:4.4-1ubuntu0.3 [117 kB]\n",
      "Get:3 http://archive.ubuntu.com/ubuntu focal-updates/main amd64 libudev1 amd64 245.4-4ubuntu3.13 [77.6 kB]\n",
      "Get:4 http://archive.ubuntu.com/ubuntu focal-updates/main amd64 udev amd64 245.4-4ubuntu3.13 [1,365 kB]\n",
      "Get:5 http://archive.ubuntu.com/ubuntu focal/main amd64 libfuse2 amd64 2.9.9-3 [82.0 kB]\n",
      "Get:6 http://archive.ubuntu.com/ubuntu focal-updates/main amd64 snapd amd64 2.51.1+20.04ubuntu2 [30.4 MB]\n",
      "Get:7 http://archive.ubuntu.com/ubuntu focal-updates/universe amd64 chromium-browser amd64 1:85.0.4183.83-0ubuntu0.20.04.2 [48.3 kB]\n",
      "Get:8 http://archive.ubuntu.com/ubuntu focal-updates/universe amd64 chromium-chromedriver amd64 1:85.0.4183.83-0ubuntu0.20.04.2 [2,496 B]\n",
      "Fetched 32.6 MB in 0s (74.9 MB/s)\n",
      "debconf: delaying package configuration, since apt-utils is not installed\n",
      "\n",
      "\u001b7\u001b[0;23r\u001b8\u001b[1ASelecting previously unselected package apparmor.\n",
      "(Reading database ... 32953 files and directories currently installed.)\n",
      "Preparing to unpack .../apparmor_2.13.3-7ubuntu5.1_amd64.deb ...\n",
      "\u001b7\u001b[24;0f\u001b[42m\u001b[30mProgress: [  0%]\u001b[49m\u001b[39m [..........................................................] \u001b8\u001b7\u001b[24;0f\u001b[42m\u001b[30mProgress: [  3%]\u001b[49m\u001b[39m [#.........................................................] \u001b8Unpacking apparmor (2.13.3-7ubuntu5.1) ...\n",
      "\u001b7\u001b[24;0f\u001b[42m\u001b[30mProgress: [  6%]\u001b[49m\u001b[39m [###.......................................................] \u001b8Selecting previously unselected package squashfs-tools.\n",
      "Preparing to unpack .../squashfs-tools_1%3a4.4-1ubuntu0.3_amd64.deb ...\n",
      "\u001b7\u001b[24;0f\u001b[42m\u001b[30mProgress: [  9%]\u001b[49m\u001b[39m [#####.....................................................] \u001b8Unpacking squashfs-tools (1:4.4-1ubuntu0.3) ...\n",
      "\u001b7\u001b[24;0f\u001b[42m\u001b[30mProgress: [ 12%]\u001b[49m\u001b[39m [#######...................................................] \u001b8Preparing to unpack .../libudev1_245.4-4ubuntu3.13_amd64.deb ...\n",
      "\u001b7\u001b[24;0f\u001b[42m\u001b[30mProgress: [ 15%]\u001b[49m\u001b[39m [########..................................................] \u001b8Unpacking libudev1:amd64 (245.4-4ubuntu3.13) over (245.4-4ubuntu3.4) ...\n",
      "\u001b7\u001b[24;0f\u001b[42m\u001b[30mProgress: [ 18%]\u001b[49m\u001b[39m [##########................................................] \u001b8Setting up libudev1:amd64 (245.4-4ubuntu3.13) ...\n",
      "\u001b7\u001b[24;0f\u001b[42m\u001b[30mProgress: [ 21%]\u001b[49m\u001b[39m [############..............................................] \u001b8\u001b7\u001b[24;0f\u001b[42m\u001b[30mProgress: [ 24%]\u001b[49m\u001b[39m [##############............................................] \u001b8Selecting previously unselected package udev.\n",
      "(Reading database ... 33130 files and directories currently installed.)\n",
      "Preparing to unpack .../udev_245.4-4ubuntu3.13_amd64.deb ...\n",
      "\u001b7\u001b[24;0f\u001b[42m\u001b[30mProgress: [ 27%]\u001b[49m\u001b[39m [###############...........................................] \u001b8Unpacking udev (245.4-4ubuntu3.13) ...\n",
      "\u001b7\u001b[24;0f\u001b[42m\u001b[30mProgress: [ 30%]\u001b[49m\u001b[39m [#################.........................................] \u001b8Selecting previously unselected package libfuse2:amd64.\n",
      "Preparing to unpack .../libfuse2_2.9.9-3_amd64.deb ...\n",
      "\u001b7\u001b[24;0f\u001b[42m\u001b[30mProgress: [ 33%]\u001b[49m\u001b[39m [###################.......................................] \u001b8Unpacking libfuse2:amd64 (2.9.9-3) ...\n",
      "\u001b7\u001b[24;0f\u001b[42m\u001b[30mProgress: [ 36%]\u001b[49m\u001b[39m [#####################.....................................] \u001b8Selecting previously unselected package snapd.\n",
      "Preparing to unpack .../snapd_2.51.1+20.04ubuntu2_amd64.deb ...\n",
      "\u001b7\u001b[24;0f\u001b[42m\u001b[30mProgress: [ 39%]\u001b[49m\u001b[39m [######################....................................] \u001b8Unpacking snapd (2.51.1+20.04ubuntu2) ...\n",
      "\u001b7\u001b[24;0f\u001b[42m\u001b[30mProgress: [ 42%]\u001b[49m\u001b[39m [########################..................................] \u001b8Setting up apparmor (2.13.3-7ubuntu5.1) ...\n",
      "\u001b7\u001b[24;0f\u001b[42m\u001b[30mProgress: [ 45%]\u001b[49m\u001b[39m [##########################................................] \u001b8debconf: unable to initialize frontend: Dialog\n",
      "debconf: (No usable dialog-like program is installed, so the dialog based frontend cannot be used. at /usr/share/perl5/Debconf/FrontEnd/Dialog.pm line 76.)\n",
      "debconf: falling back to frontend: Readline\n",
      "Created symlink /etc/systemd/system/sysinit.target.wants/apparmor.service → /lib/systemd/system/apparmor.service.\n",
      "\u001b7\u001b[24;0f\u001b[42m\u001b[30mProgress: [ 48%]\u001b[49m\u001b[39m [############################..............................] \u001b8Setting up squashfs-tools (1:4.4-1ubuntu0.3) ...\n",
      "\u001b7\u001b[24;0f\u001b[42m\u001b[30mProgress: [ 52%]\u001b[49m\u001b[39m [#############################.............................] \u001b8\u001b7\u001b[24;0f\u001b[42m\u001b[30mProgress: [ 55%]\u001b[49m\u001b[39m [###############################...........................] \u001b8Setting up udev (245.4-4ubuntu3.13) ...\n",
      "\u001b7\u001b[24;0f\u001b[42m\u001b[30mProgress: [ 58%]\u001b[49m\u001b[39m [#################################.........................] \u001b8invoke-rc.d: could not determine current runlevel\n",
      "invoke-rc.d: policy-rc.d denied execution of start.\n",
      "\u001b7\u001b[24;0f\u001b[42m\u001b[30mProgress: [ 61%]\u001b[49m\u001b[39m [###################################.......................] \u001b8Setting up libfuse2:amd64 (2.9.9-3) ...\n",
      "\u001b7\u001b[24;0f\u001b[42m\u001b[30mProgress: [ 64%]\u001b[49m\u001b[39m [####################################......................] \u001b8\u001b7\u001b[24;0f\u001b[42m\u001b[30mProgress: [ 67%]\u001b[49m\u001b[39m [######################################....................] \u001b8Setting up snapd (2.51.1+20.04ubuntu2) ...\n",
      "\u001b7\u001b[24;0f\u001b[42m\u001b[30mProgress: [ 70%]\u001b[49m\u001b[39m [########################################..................] \u001b8Created symlink /etc/systemd/system/multi-user.target.wants/snapd.apparmor.service → /lib/systemd/system/snapd.apparmor.service.\n",
      "Created symlink /etc/systemd/system/multi-user.target.wants/snapd.autoimport.service → /lib/systemd/system/snapd.autoimport.service.\n",
      "Created symlink /etc/systemd/system/multi-user.target.wants/snapd.core-fixup.service → /lib/systemd/system/snapd.core-fixup.service.\n",
      "Created symlink /etc/systemd/system/multi-user.target.wants/snapd.recovery-chooser-trigger.service → /lib/systemd/system/snapd.recovery-chooser-trigger.service.\n",
      "Created symlink /etc/systemd/system/multi-user.target.wants/snapd.seeded.service → /lib/systemd/system/snapd.seeded.service.\n",
      "Created symlink /etc/systemd/system/cloud-final.service.wants/snapd.seeded.service → /lib/systemd/system/snapd.seeded.service.\n",
      "Created symlink /etc/systemd/system/multi-user.target.wants/snapd.service → /lib/systemd/system/snapd.service.\n",
      "Created symlink /etc/systemd/system/timers.target.wants/snapd.snap-repair.timer → /lib/systemd/system/snapd.snap-repair.timer.\n",
      "Created symlink /etc/systemd/system/sockets.target.wants/snapd.socket → /lib/systemd/system/snapd.socket.\n",
      "Created symlink /etc/systemd/system/final.target.wants/snapd.system-shutdown.service → /lib/systemd/system/snapd.system-shutdown.service.\n",
      "\u001b7\u001b[24;0f\u001b[42m\u001b[30mProgress: [ 73%]\u001b[49m\u001b[39m [##########################################................] \u001b8Selecting previously unselected package chromium-browser.\n",
      "(Reading database ... 33353 files and directories currently installed.)\n",
      "Preparing to unpack .../chromium-browser_1%3a85.0.4183.83-0ubuntu0.20.04.2_amd64.deb ...\n",
      "\u001b7\u001b[24;0f\u001b[42m\u001b[30mProgress: [ 76%]\u001b[49m\u001b[39m [###########################################...............] \u001b8debconf: unable to initialize frontend: Dialog\n",
      "debconf: (No usable dialog-like program is installed, so the dialog based frontend cannot be used. at /usr/share/perl5/Debconf/FrontEnd/Dialog.pm line 76.)\n",
      "debconf: falling back to frontend: Readline\n",
      "=> Installing the chromium snap\n",
      "==> Checking connectivity with the snap store\n",
      "===> System doesn't have a working snapd, skipping\n",
      "Unpacking chromium-browser (1:85.0.4183.83-0ubuntu0.20.04.2) ...\n",
      "\u001b7\u001b[24;0f\u001b[42m\u001b[30mProgress: [ 79%]\u001b[49m\u001b[39m [#############################################.............] \u001b8Selecting previously unselected package chromium-chromedriver.\n",
      "Preparing to unpack .../chromium-chromedriver_1%3a85.0.4183.83-0ubuntu0.20.04.2_amd64.deb ...\n",
      "\u001b7\u001b[24;0f\u001b[42m\u001b[30mProgress: [ 82%]\u001b[49m\u001b[39m [###############################################...........] \u001b8Unpacking chromium-chromedriver (1:85.0.4183.83-0ubuntu0.20.04.2) ...\n",
      "\u001b7\u001b[24;0f\u001b[42m\u001b[30mProgress: [ 85%]\u001b[49m\u001b[39m [#################################################.........] \u001b8Setting up chromium-browser (1:85.0.4183.83-0ubuntu0.20.04.2) ...\n",
      "\u001b7\u001b[24;0f\u001b[42m\u001b[30mProgress: [ 88%]\u001b[49m\u001b[39m [##################################################........] \u001b8update-alternatives: using /usr/bin/chromium-browser to provide /usr/bin/x-www-browser (x-www-browser) in auto mode\n",
      "update-alternatives: using /usr/bin/chromium-browser to provide /usr/bin/gnome-www-browser (gnome-www-browser) in auto mode\n",
      "\u001b7\u001b[24;0f\u001b[42m\u001b[30mProgress: [ 91%]\u001b[49m\u001b[39m [####################################################......] \u001b8Setting up chromium-chromedriver (1:85.0.4183.83-0ubuntu0.20.04.2) ...\n",
      "\u001b7\u001b[24;0f\u001b[42m\u001b[30mProgress: [ 94%]\u001b[49m\u001b[39m [######################################################....] \u001b8\u001b7\u001b[24;0f\u001b[42m\u001b[30mProgress: [ 97%]\u001b[49m\u001b[39m [########################################################..] \u001b8Processing triggers for mime-support (3.64ubuntu1) ...\n",
      "Processing triggers for hicolor-icon-theme (0.17-2) ...\n",
      "Processing triggers for libc-bin (2.31-0ubuntu9.2) ...\n",
      "Processing triggers for systemd (245.4-4ubuntu3.4) ...\n",
      "Processing triggers for man-db (2.9.1-1) ...\n",
      "Processing triggers for dbus (1.12.16-2ubuntu2.1) ...\n",
      "\n",
      "\u001b7\u001b[0;24r\u001b8\u001b[1A\u001b[J"
     ]
    }
   ],
   "source": [
    "%pip install selenium\n",
    "\n",
    "%pip install retry\n",
    "%pip install timeout-decorator\n",
    "\n",
    "!sudo apt install -y chromium-chromedriver"
   ]
  }
 ],
 "metadata": {
  "interpreter": {
   "hash": "8b8334dab9339717f727a1deaf837b322d7a41c20d15cc86be99a8e69ceec8ce"
  },
  "kernelspec": {
   "display_name": "Python 3.8.12 64-bit ('3.8.12': pyenv)",
   "language": "python",
   "name": "python3"
  },
  "language_info": {
   "codemirror_mode": {
    "name": "ipython",
    "version": 3
   },
   "file_extension": ".py",
   "mimetype": "text/x-python",
   "name": "python",
   "nbconvert_exporter": "python",
   "pygments_lexer": "ipython3",
   "version": "3.8.12"
  },
  "orig_nbformat": 4
 },
 "nbformat": 4,
 "nbformat_minor": 2
}
